{
 "cells": [
  {
   "cell_type": "code",
   "execution_count": 1,
   "id": "77115914",
   "metadata": {},
   "outputs": [
    {
     "name": "stdout",
     "output_type": "stream",
     "text": [
      "1-notebook.png\n"
     ]
    }
   ],
   "source": [
    "print(\"1-notebook.png\")"
   ]
  },
  {
   "cell_type": "code",
   "execution_count": 2,
   "id": "99c01ede",
   "metadata": {},
   "outputs": [
    {
     "name": "stdout",
     "output_type": "stream",
     "text": [
      "In this notebook, Data Science Tools and Ecosystem are summarized.\n"
     ]
    }
   ],
   "source": [
    "print(\"In this notebook, Data Science Tools and Ecosystem are summarized.\")"
   ]
  },
  {
   "cell_type": "code",
   "execution_count": 4,
   "id": "0ffdb93b",
   "metadata": {},
   "outputs": [],
   "source": [
    "# Data Science Tools and Ecosystem"
   ]
  },
  {
   "cell_type": "markdown",
   "id": "79d7136b",
   "metadata": {},
   "source": [
    "In this notebook, Data Science Tools and Ecosystem are summarized."
   ]
  },
  {
   "cell_type": "code",
   "execution_count": 6,
   "id": "eb23721a",
   "metadata": {},
   "outputs": [
    {
     "name": "stdout",
     "output_type": "stream",
     "text": [
      "Some of the popular languages that Data Scientists use are:\n",
      "1. Python\n",
      "2. R\n",
      "3. Scala\n",
      "4. Java\n"
     ]
    }
   ],
   "source": [
    "print(\"Some of the popular languages that Data Scientists use are:\")\n",
    "items = [\"Python\",\"R\",\"Scala\",\"Java\"]\n",
    "for index, item in enumerate(items, start=1):\n",
    "    print(f\"{index}. {item}\")"
   ]
  },
  {
   "cell_type": "code",
   "execution_count": 7,
   "id": "34c3da60",
   "metadata": {},
   "outputs": [
    {
     "name": "stdout",
     "output_type": "stream",
     "text": [
      "Some of the commonly used libraries used by Data Scientists include:\n",
      "1. Pandas\n",
      "2. Numpy\n",
      "3. Matplotlib\n",
      "4. TensorFlow\n"
     ]
    }
   ],
   "source": [
    "print(\"Some of the commonly used libraries used by Data Scientists include:\")\n",
    "items = [\"Pandas\",\"Numpy\",\"Matplotlib\",\"TensorFlow\"]\n",
    "for index, item in enumerate(items, start=1):\n",
    "    print(f\"{index}. {item}\")"
   ]
  },
  {
   "cell_type": "code",
   "execution_count": 8,
   "id": "322b02a0",
   "metadata": {},
   "outputs": [
    {
     "name": "stdout",
     "output_type": "stream",
     "text": [
      "Data Science tools:\n",
      "1. Pandas\n",
      "2. Numpy\n",
      "3. Matplotlib\n",
      "4. TensorFlow\n"
     ]
    }
   ],
   "source": [
    "print(\"Data Science tools:\")\n",
    "items = [\"Pandas\",\"Numpy\",\"Matplotlib\",\"TensorFlow\"]\n",
    "for index, item in enumerate(items, start=1):\n",
    "    print(f\"{index}. {item}\")"
   ]
  },
  {
   "cell_type": "code",
   "execution_count": 9,
   "id": "94aeef01",
   "metadata": {},
   "outputs": [
    {
     "name": "stdout",
     "output_type": "stream",
     "text": [
      "Collecting PrettyTable\n",
      "  Downloading prettytable-3.10.0-py3-none-any.whl.metadata (30 kB)\n",
      "Requirement already satisfied: wcwidth in c:\\users\\singh\\appdata\\local\\programs\\python\\python310\\lib\\site-packages (from PrettyTable) (0.2.6)\n",
      "Downloading prettytable-3.10.0-py3-none-any.whl (28 kB)\n",
      "Installing collected packages: PrettyTable\n",
      "Successfully installed PrettyTable-3.10.0\n",
      "Note: you may need to restart the kernel to use updated packages.\n"
     ]
    },
    {
     "name": "stderr",
     "output_type": "stream",
     "text": [
      "\n",
      "[notice] A new release of pip is available: 23.3.2 -> 24.0\n",
      "[notice] To update, run: python.exe -m pip install --upgrade pip\n"
     ]
    }
   ],
   "source": [
    "pip  install PrettyTable"
   ]
  },
  {
   "cell_type": "code",
   "execution_count": 10,
   "id": "e2f1fe86",
   "metadata": {},
   "outputs": [
    {
     "name": "stdout",
     "output_type": "stream",
     "text": [
      "+--------------------+\n",
      "| Data install table |\n",
      "+--------------------+\n",
      "|      Anaconda      |\n",
      "|      R studio      |\n",
      "|  Jupyter notebook  |\n",
      "+--------------------+\n"
     ]
    }
   ],
   "source": [
    "\n",
    "\n",
    "from prettytable import PrettyTable\n",
    "\n",
    "# Create a table\n",
    "table = PrettyTable()\n",
    "\n",
    "# Define table headers\n",
    "table.field_names = [\"Data install table\"]\n",
    "\n",
    "# Add data to the table\n",
    "table.add_row([\"Anaconda\"])\n",
    "table.add_row([\"R studio\"])\n",
    "table.add_row([\"Jupyter notebook\"])\n",
    "\n",
    "# Print the table\n",
    "print(table)\t"
   ]
  },
  {
   "cell_type": "code",
   "execution_count": null,
   "id": "2b5e4e9b",
   "metadata": {},
   "outputs": [],
   "source": []
  }
 ],
 "metadata": {
  "kernelspec": {
   "display_name": "Python 3 (ipykernel)",
   "language": "python",
   "name": "python3"
  },
  "language_info": {
   "codemirror_mode": {
    "name": "ipython",
    "version": 3
   },
   "file_extension": ".py",
   "mimetype": "text/x-python",
   "name": "python",
   "nbconvert_exporter": "python",
   "pygments_lexer": "ipython3",
   "version": "3.10.11"
  }
 },
 "nbformat": 4,
 "nbformat_minor": 5
}
