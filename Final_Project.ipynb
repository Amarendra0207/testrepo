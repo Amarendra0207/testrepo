{
 "cells": [
  {
   "cell_type": "code",
   "execution_count": 1,
   "id": "d97b4b5c",
   "metadata": {},
   "outputs": [
    {
     "ename": "ModuleNotFoundError",
     "evalue": "No module named 'yfinance'",
     "output_type": "error",
     "traceback": [
      "\u001b[1;31m---------------------------------------------------------------------------\u001b[0m",
      "\u001b[1;31mModuleNotFoundError\u001b[0m                       Traceback (most recent call last)",
      "Cell \u001b[1;32mIn[1], line 1\u001b[0m\n\u001b[1;32m----> 1\u001b[0m \u001b[38;5;28;01mimport\u001b[39;00m \u001b[38;5;21;01myfinance\u001b[39;00m \u001b[38;5;28;01mas\u001b[39;00m \u001b[38;5;21;01myf\u001b[39;00m\n",
      "\u001b[1;31mModuleNotFoundError\u001b[0m: No module named 'yfinance'"
     ]
    }
   ],
   "source": [
    "import yfinance as yf\n"
   ]
  },
  {
   "cell_type": "code",
   "execution_count": 2,
   "id": "36f27a64",
   "metadata": {},
   "outputs": [
    {
     "name": "stdout",
     "output_type": "stream",
     "text": [
      "Collecting yfinance==0.2.4"
     ]
    },
    {
     "name": "stderr",
     "output_type": "stream",
     "text": [
      "\n",
      "[notice] A new release of pip is available: 23.3.2 -> 24.0\n",
      "[notice] To update, run: python.exe -m pip install --upgrade pip\n"
     ]
    },
    {
     "name": "stdout",
     "output_type": "stream",
     "text": [
      "\n",
      "  Downloading yfinance-0.2.4-py2.py3-none-any.whl.metadata (12 kB)\n",
      "Requirement already satisfied: pandas>=1.3.0 in c:\\users\\singh\\appdata\\local\\programs\\python\\python310\\lib\\site-packages (from yfinance==0.2.4) (2.1.4)\n",
      "Requirement already satisfied: numpy>=1.16.5 in c:\\users\\singh\\appdata\\local\\programs\\python\\python310\\lib\\site-packages (from yfinance==0.2.4) (1.26.3)\n",
      "Requirement already satisfied: requests>=2.26 in c:\\users\\singh\\appdata\\local\\programs\\python\\python310\\lib\\site-packages (from yfinance==0.2.4) (2.28.2)\n",
      "Collecting multitasking>=0.0.7 (from yfinance==0.2.4)\n",
      "  Downloading multitasking-0.0.11-py3-none-any.whl.metadata (5.5 kB)\n",
      "Collecting lxml>=4.9.1 (from yfinance==0.2.4)\n",
      "  Downloading lxml-5.1.0-cp310-cp310-win_amd64.whl.metadata (3.6 kB)\n",
      "Collecting appdirs>=1.4.4 (from yfinance==0.2.4)\n",
      "  Downloading appdirs-1.4.4-py2.py3-none-any.whl.metadata (9.0 kB)\n",
      "Requirement already satisfied: pytz>=2022.5 in c:\\users\\singh\\appdata\\local\\programs\\python\\python310\\lib\\site-packages (from yfinance==0.2.4) (2023.3.post1)\n",
      "Collecting frozendict>=2.3.4 (from yfinance==0.2.4)\n",
      "  Downloading frozendict-2.4.0-cp310-cp310-win_amd64.whl.metadata (23 kB)\n",
      "Collecting cryptography>=3.3.2 (from yfinance==0.2.4)\n",
      "  Downloading cryptography-42.0.5-cp39-abi3-win_amd64.whl.metadata (5.4 kB)\n",
      "Requirement already satisfied: beautifulsoup4>=4.11.1 in c:\\users\\singh\\appdata\\local\\programs\\python\\python310\\lib\\site-packages (from yfinance==0.2.4) (4.12.2)\n",
      "Collecting html5lib>=1.1 (from yfinance==0.2.4)\n",
      "  Downloading html5lib-1.1-py2.py3-none-any.whl.metadata (16 kB)\n",
      "Requirement already satisfied: soupsieve>1.2 in c:\\users\\singh\\appdata\\local\\programs\\python\\python310\\lib\\site-packages (from beautifulsoup4>=4.11.1->yfinance==0.2.4) (2.4)\n",
      "Requirement already satisfied: cffi>=1.12 in c:\\users\\singh\\appdata\\local\\programs\\python\\python310\\lib\\site-packages (from cryptography>=3.3.2->yfinance==0.2.4) (1.15.1)\n",
      "Requirement already satisfied: six>=1.9 in c:\\users\\singh\\appdata\\local\\programs\\python\\python310\\lib\\site-packages (from html5lib>=1.1->yfinance==0.2.4) (1.16.0)\n",
      "Requirement already satisfied: webencodings in c:\\users\\singh\\appdata\\local\\programs\\python\\python310\\lib\\site-packages (from html5lib>=1.1->yfinance==0.2.4) (0.5.1)\n",
      "Requirement already satisfied: python-dateutil>=2.8.2 in c:\\users\\singh\\appdata\\local\\programs\\python\\python310\\lib\\site-packages (from pandas>=1.3.0->yfinance==0.2.4) (2.8.2)\n",
      "Requirement already satisfied: tzdata>=2022.1 in c:\\users\\singh\\appdata\\local\\programs\\python\\python310\\lib\\site-packages (from pandas>=1.3.0->yfinance==0.2.4) (2023.4)\n",
      "Requirement already satisfied: charset-normalizer<4,>=2 in c:\\users\\singh\\appdata\\local\\programs\\python\\python310\\lib\\site-packages (from requests>=2.26->yfinance==0.2.4) (3.1.0)\n",
      "Requirement already satisfied: idna<4,>=2.5 in c:\\users\\singh\\appdata\\local\\programs\\python\\python310\\lib\\site-packages (from requests>=2.26->yfinance==0.2.4) (3.4)\n",
      "Requirement already satisfied: urllib3<1.27,>=1.21.1 in c:\\users\\singh\\appdata\\local\\programs\\python\\python310\\lib\\site-packages (from requests>=2.26->yfinance==0.2.4) (1.26.15)\n",
      "Requirement already satisfied: certifi>=2017.4.17 in c:\\users\\singh\\appdata\\local\\programs\\python\\python310\\lib\\site-packages (from requests>=2.26->yfinance==0.2.4) (2022.12.7)\n",
      "Requirement already satisfied: pycparser in c:\\users\\singh\\appdata\\local\\programs\\python\\python310\\lib\\site-packages (from cffi>=1.12->cryptography>=3.3.2->yfinance==0.2.4) (2.21)\n",
      "Downloading yfinance-0.2.4-py2.py3-none-any.whl (51 kB)\n",
      "   ---------------------------------------- 0.0/51.4 kB ? eta -:--:--\n",
      "   ---------------------------------------- 51.4/51.4 kB 1.3 MB/s eta 0:00:00\n",
      "Downloading appdirs-1.4.4-py2.py3-none-any.whl (9.6 kB)\n",
      "Downloading cryptography-42.0.5-cp39-abi3-win_amd64.whl (2.9 MB)\n",
      "   ---------------------------------------- 0.0/2.9 MB ? eta -:--:--\n",
      "   - -------------------------------------- 0.1/2.9 MB 2.2 MB/s eta 0:00:02\n",
      "   --- ------------------------------------ 0.3/2.9 MB 2.6 MB/s eta 0:00:01\n",
      "   ------ --------------------------------- 0.5/2.9 MB 3.5 MB/s eta 0:00:01\n",
      "   --------- ------------------------------ 0.7/2.9 MB 3.7 MB/s eta 0:00:01\n",
      "   -------------- ------------------------- 1.0/2.9 MB 4.3 MB/s eta 0:00:01\n",
      "   ------------------- -------------------- 1.4/2.9 MB 4.9 MB/s eta 0:00:01\n",
      "   ------------------------ --------------- 1.8/2.9 MB 5.4 MB/s eta 0:00:01\n",
      "   ----------------------------- ---------- 2.1/2.9 MB 5.7 MB/s eta 0:00:01\n",
      "   ----------------------------------- ---- 2.6/2.9 MB 6.2 MB/s eta 0:00:01\n",
      "   ---------------------------------------- 2.9/2.9 MB 6.2 MB/s eta 0:00:00\n",
      "Downloading frozendict-2.4.0-cp310-cp310-win_amd64.whl (36 kB)\n",
      "Downloading html5lib-1.1-py2.py3-none-any.whl (112 kB)\n",
      "   ---------------------------------------- 0.0/112.2 kB ? eta -:--:--\n",
      "   ---------------------------------------- 112.2/112.2 kB 6.8 MB/s eta 0:00:00\n",
      "Downloading lxml-5.1.0-cp310-cp310-win_amd64.whl (3.9 MB)\n",
      "   ---------------------------------------- 0.0/3.9 MB ? eta -:--:--\n",
      "   --- ------------------------------------ 0.3/3.9 MB 10.2 MB/s eta 0:00:01\n",
      "   ------ --------------------------------- 0.7/3.9 MB 10.2 MB/s eta 0:00:01\n",
      "   ---------- ----------------------------- 1.0/3.9 MB 8.3 MB/s eta 0:00:01\n",
      "   --------------- ------------------------ 1.5/3.9 MB 8.9 MB/s eta 0:00:01\n",
      "   ------------------- -------------------- 1.9/3.9 MB 8.8 MB/s eta 0:00:01\n",
      "   ------------------------ --------------- 2.3/3.9 MB 8.8 MB/s eta 0:00:01\n",
      "   ---------------------------- ----------- 2.8/3.9 MB 9.0 MB/s eta 0:00:01\n",
      "   ------------------------------- -------- 3.1/3.9 MB 8.9 MB/s eta 0:00:01\n",
      "   ---------------------------------- ----- 3.4/3.9 MB 8.2 MB/s eta 0:00:01\n",
      "   -------------------------------------- - 3.8/3.9 MB 8.3 MB/s eta 0:00:01\n",
      "   ---------------------------------------- 3.9/3.9 MB 8.3 MB/s eta 0:00:00\n",
      "Downloading multitasking-0.0.11-py3-none-any.whl (8.5 kB)\n",
      "Installing collected packages: multitasking, appdirs, lxml, html5lib, frozendict, cryptography, yfinance\n",
      "Successfully installed appdirs-1.4.4 cryptography-42.0.5 frozendict-2.4.0 html5lib-1.1 lxml-5.1.0 multitasking-0.0.11 yfinance-0.2.4\n"
     ]
    }
   ],
   "source": [
    "!pip install yfinance==0.2.4"
   ]
  },
  {
   "cell_type": "code",
   "execution_count": 3,
   "id": "412a905d",
   "metadata": {},
   "outputs": [],
   "source": [
    "import yfinance as yf"
   ]
  },
  {
   "cell_type": "code",
   "execution_count": 4,
   "id": "f172cd37",
   "metadata": {},
   "outputs": [],
   "source": [
    "import pandas as pd"
   ]
  },
  {
   "cell_type": "code",
   "execution_count": 6,
   "id": "f5262cb6",
   "metadata": {},
   "outputs": [
    {
     "name": "stdout",
     "output_type": "stream",
     "text": [
      "Empty DataFrame\n",
      "Columns: [Open, High, Low, Close, Adj Close, Volume]\n",
      "Index: []\n"
     ]
    }
   ],
   "source": [
    "ticker_symbol = \"TSLA\"\n",
    "\n",
    "# Fetch the data\n",
    "#tesla_data = yf.download(ticker_symbol, start=\"2020-01-01\", end=\"2024-03-14\")\n",
    "\n",
    "# Print the first few rows of the data\n",
    "print(tesla_data.head())"
   ]
  },
  {
   "cell_type": "code",
   "execution_count": 13,
   "id": "3b036c11",
   "metadata": {},
   "outputs": [
    {
     "name": "stdout",
     "output_type": "stream",
     "text": [
      "[*********************100%***********************]  1 of 1 completed\n",
      "\n",
      "1 Failed download:\n",
      "- TSLA: No data found for this date range, symbol may be delisted\n",
      "Empty DataFrame\n",
      "Columns: [Date, Open, High, Low, Close, Adj Close, Volume]\n",
      "Index: []\n"
     ]
    }
   ],
   "source": [
    "import yfinance as yf\n",
    "import pandas as pd\n",
    "# Define the ticker symbol\n",
    "ticker_symbol = \"TSLA\"\n",
    "\n",
    "# Fetch the data\n",
    "tesla_data = yf.download(ticker_symbol, start=\"2020-01-01\", end=\"2024-03-14\")\n",
    "\n",
    "# Reset the index\n",
    "tesla_data.reset_index(inplace=True)\n",
    "\n",
    "# Save the data to a CSV file\n",
    "tesla_data.to_csv(\"tesla_stock_data.csv\", index=False)\n",
    "\n",
    "# Display the first five rows of the data\n",
    "print(tesla_data.head())"
   ]
  },
  {
   "cell_type": "code",
   "execution_count": 8,
   "id": "a20adf13",
   "metadata": {},
   "outputs": [
    {
     "ename": "AttributeError",
     "evalue": "'NoneType' object has no attribute 'find_all'",
     "output_type": "error",
     "traceback": [
      "\u001b[1;31m---------------------------------------------------------------------------\u001b[0m",
      "\u001b[1;31mAttributeError\u001b[0m                            Traceback (most recent call last)",
      "Cell \u001b[1;32mIn[8], line 18\u001b[0m\n\u001b[0;32m     15\u001b[0m revenue_table \u001b[38;5;241m=\u001b[39m soup\u001b[38;5;241m.\u001b[39mfind(\u001b[38;5;124m'\u001b[39m\u001b[38;5;124mtable\u001b[39m\u001b[38;5;124m'\u001b[39m, class_\u001b[38;5;241m=\u001b[39m\u001b[38;5;124m'\u001b[39m\u001b[38;5;124mhistorical_data_table\u001b[39m\u001b[38;5;124m'\u001b[39m)\n\u001b[0;32m     17\u001b[0m \u001b[38;5;66;03m# Extract the table headers\u001b[39;00m\n\u001b[1;32m---> 18\u001b[0m headers \u001b[38;5;241m=\u001b[39m [header\u001b[38;5;241m.\u001b[39mtext\u001b[38;5;241m.\u001b[39mstrip() \u001b[38;5;28;01mfor\u001b[39;00m header \u001b[38;5;129;01min\u001b[39;00m \u001b[43mrevenue_table\u001b[49m\u001b[38;5;241;43m.\u001b[39;49m\u001b[43mfind_all\u001b[49m(\u001b[38;5;124m'\u001b[39m\u001b[38;5;124mth\u001b[39m\u001b[38;5;124m'\u001b[39m)]\n\u001b[0;32m     20\u001b[0m \u001b[38;5;66;03m# Extract the table rows\u001b[39;00m\n\u001b[0;32m     21\u001b[0m rows \u001b[38;5;241m=\u001b[39m []\n",
      "\u001b[1;31mAttributeError\u001b[0m: 'NoneType' object has no attribute 'find_all'"
     ]
    }
   ],
   "source": [
    "import requests\n",
    "from bs4 import BeautifulSoup\n",
    "import pandas as pd\n",
    "\n",
    "# URL of the Tesla revenue page\n",
    "url = 'https://www.macrotrends.net/stocks/charts/TSLA/tesla/revenue'\n",
    "\n",
    "# Send a GET request to the URL\n",
    "response = requests.get(url)\n",
    "\n",
    "# Parse the HTML content of the page\n",
    "soup = BeautifulSoup(response.text, 'html.parser')\n",
    "\n",
    "# Find the revenue table\n",
    "revenue_table = soup.find('table', class_='historical_data_table')\n",
    "\n",
    "# Extract the table headers\n",
    "headers = [header.text.strip() for header in revenue_table.find_all('th')]\n",
    "\n",
    "# Extract the table rows\n",
    "rows = []\n",
    "for row in revenue_table.find_all('tr')[1:]:\n",
    "    rows.append([val.text.strip() for val in row.find_all('td')])\n",
    "\n",
    "# Create a DataFrame from the extracted data\n",
    "tesla_revenue = pd.DataFrame(rows, columns=headers)\n",
    "\n",
    "# Display the last five rows of the DataFrame\n",
    "print(tesla_revenue.tail())"
   ]
  },
  {
   "cell_type": "code",
   "execution_count": 9,
   "id": "03d90947",
   "metadata": {},
   "outputs": [
    {
     "name": "stdout",
     "output_type": "stream",
     "text": [
      "[*********************100%***********************]  1 of 1 completed\n",
      "\n",
      "1 Failed download:\n",
      "- GME: No data found for this date range, symbol may be delisted\n",
      "Empty DataFrame\n",
      "Columns: [Date, Open, High, Low, Close, Adj Close, Volume]\n",
      "Index: []\n"
     ]
    }
   ],
   "source": [
    "import yfinance as yf\n",
    "\n",
    "# Define the ticker symbol\n",
    "ticker_symbol = \"GME\"\n",
    "\n",
    "# Fetch the data\n",
    "gme_data = yf.download(ticker_symbol, start=\"2020-01-01\", end=\"2024-03-14\")\n",
    "\n",
    "# Reset the index\n",
    "gme_data.reset_index(inplace=True)\n",
    "\n",
    "# Save the data to a CSV file\n",
    "gme_data.to_csv(\"gme_stock_data.csv\", index=False)\n",
    "\n",
    "# Display the first five rows of the data\n",
    "print(gme_data.head())"
   ]
  },
  {
   "cell_type": "code",
   "execution_count": 10,
   "id": "0fdd118d",
   "metadata": {},
   "outputs": [
    {
     "ename": "AttributeError",
     "evalue": "'NoneType' object has no attribute 'find_all'",
     "output_type": "error",
     "traceback": [
      "\u001b[1;31m---------------------------------------------------------------------------\u001b[0m",
      "\u001b[1;31mAttributeError\u001b[0m                            Traceback (most recent call last)",
      "Cell \u001b[1;32mIn[10], line 18\u001b[0m\n\u001b[0;32m     15\u001b[0m revenue_table \u001b[38;5;241m=\u001b[39m soup\u001b[38;5;241m.\u001b[39mfind(\u001b[38;5;124m'\u001b[39m\u001b[38;5;124mtable\u001b[39m\u001b[38;5;124m'\u001b[39m, class_\u001b[38;5;241m=\u001b[39m\u001b[38;5;124m'\u001b[39m\u001b[38;5;124mhistorical_data_table\u001b[39m\u001b[38;5;124m'\u001b[39m)\n\u001b[0;32m     17\u001b[0m \u001b[38;5;66;03m# Extract the table headers\u001b[39;00m\n\u001b[1;32m---> 18\u001b[0m headers \u001b[38;5;241m=\u001b[39m [header\u001b[38;5;241m.\u001b[39mtext\u001b[38;5;241m.\u001b[39mstrip() \u001b[38;5;28;01mfor\u001b[39;00m header \u001b[38;5;129;01min\u001b[39;00m \u001b[43mrevenue_table\u001b[49m\u001b[38;5;241;43m.\u001b[39;49m\u001b[43mfind_all\u001b[49m(\u001b[38;5;124m'\u001b[39m\u001b[38;5;124mth\u001b[39m\u001b[38;5;124m'\u001b[39m)]\n\u001b[0;32m     20\u001b[0m \u001b[38;5;66;03m# Extract the table rows\u001b[39;00m\n\u001b[0;32m     21\u001b[0m rows \u001b[38;5;241m=\u001b[39m []\n",
      "\u001b[1;31mAttributeError\u001b[0m: 'NoneType' object has no attribute 'find_all'"
     ]
    }
   ],
   "source": [
    "import requests\n",
    "from bs4 import BeautifulSoup\n",
    "import pandas as pd\n",
    "\n",
    "# URL of the GameStop revenue page\n",
    "url = 'https://www.macrotrends.net/stocks/charts/GME/gamestop/revenue'\n",
    "\n",
    "# Send a GET request to the URL\n",
    "response = requests.get(url)\n",
    "\n",
    "# Parse the HTML content of the page\n",
    "soup = BeautifulSoup(response.text, 'html.parser')\n",
    "\n",
    "# Find the revenue table\n",
    "revenue_table = soup.find('table', class_='historical_data_table')\n",
    "\n",
    "# Extract the table headers\n",
    "headers = [header.text.strip() for header in revenue_table.find_all('th')]\n",
    "\n",
    "# Extract the table rows\n",
    "rows = []\n",
    "for row in revenue_table.find_all('tr')[1:]:\n",
    "    rows.append([val.text.strip() for val in row.find_all('td')])\n",
    "\n",
    "# Create a DataFrame from the extracted data\n",
    "gme_revenue = pd.DataFrame(rows, columns=headers)\n",
    "\n",
    "# Display the last five rows of the DataFrame\n",
    "print(gme_revenue.tail())"
   ]
  },
  {
   "cell_type": "code",
   "execution_count": 11,
   "id": "4dc6e69f",
   "metadata": {},
   "outputs": [
    {
     "name": "stdout",
     "output_type": "stream",
     "text": [
      "[*********************100%***********************]  1 of 1 completed\n",
      "\n",
      "1 Failed download:\n",
      "- TSLA: No data found for this date range, symbol may be delisted\n"
     ]
    },
    {
     "data": {
      "image/png": "[encoded data removed]",
      "text/plain": [
       "<Figure size 1000x600 with 1 Axes>"
      ]
     },
     "metadata": {},
     "output_type": "display_data"
    }
   ],
   "source": [
    "import yfinance as yf\n",
    "import matplotlib.pyplot as plt\n",
    "\n",
    "def make_graph(data, title):\n",
    "    plt.figure(figsize=(10, 6))\n",
    "    plt.plot(data['Date'], data['Close'], label='Close Price', color='blue')\n",
    "    plt.title(title)\n",
    "    plt.xlabel('Date')\n",
    "    plt.ylabel('Close Price (USD)')\n",
    "    plt.legend()\n",
    "    plt.grid(True)\n",
    "    plt.xticks(rotation=45)\n",
    "    plt.tight_layout()\n",
    "    plt.show()\n",
    "\n",
    "# Define the ticker symbol\n",
    "ticker_symbol = \"TSLA\"\n",
    "\n",
    "# Fetch the data\n",
    "tesla_data = yf.download(ticker_symbol, start=\"2020-01-01\", end=\"2024-03-14\")\n",
    "\n",
    "# Reset the index\n",
    "tesla_data.reset_index(inplace=True)\n",
    "\n",
    "# Call the make_graph function to plot the data\n",
    "make_graph(tesla_data, 'Tesla Stock Price')"
   ]
  },
  {
   "cell_type": "code",
   "execution_count": 12,
   "id": "984802db",
   "metadata": {},
   "outputs": [
    {
     "name": "stdout",
     "output_type": "stream",
     "text": [
      "[*********************100%***********************]  1 of 1 completed\n",
      "\n",
      "1 Failed download:\n",
      "- GME: No data found for this date range, symbol may be delisted\n"
     ]
    },
    {
     "data": {
      "image/png": "[encoded data removed]",
      "text/plain": [
       "<Figure size 1000x600 with 1 Axes>"
      ]
     },
     "metadata": {},
     "output_type": "display_data"
    }
   ],
   "source": [
    "import yfinance as yf\n",
    "import matplotlib.pyplot as plt\n",
    "\n",
    "def make_graph(data, title):\n",
    "    plt.figure(figsize=(10, 6))\n",
    "    plt.plot(data['Date'], data['Close'], label='Close Price', color='red')\n",
    "    plt.title(title)\n",
    "    plt.xlabel('Date')\n",
    "    plt.ylabel('Close Price (USD)')\n",
    "    plt.legend()\n",
    "    plt.grid(True)\n",
    "    plt.xticks(rotation=45)\n",
    "    plt.tight_layout()\n",
    "    plt.show()\n",
    "\n",
    "# Define the ticker symbol\n",
    "ticker_symbol = \"GME\"\n",
    "\n",
    "# Fetch the data\n",
    "gme_data = yf.download(ticker_symbol, start=\"2020-01-01\", end=\"2024-03-14\")\n",
    "\n",
    "# Reset the index\n",
    "gme_data.reset_index(inplace=True)\n",
    "\n",
    "# Call the make_graph function to plot the data\n",
    "make_graph(gme_data, 'GameStop Stock Price')"
   ]
  },
  {
   "cell_type": "code",
   "execution_count": null,
   "id": "7441482d",
   "metadata": {},
   "outputs": [],
   "source": []
  }
 ],
 "metadata": {
  "kernelspec": {
   "display_name": "Python 3 (ipykernel)",
   "language": "python",
   "name": "python3"
  },
  "language_info": {
   "codemirror_mode": {
    "name": "ipython",
    "version": 3
   },
   "file_extension": ".py",
   "mimetype": "text/x-python",
   "name": "python",
   "nbconvert_exporter": "python",
   "pygments_lexer": "ipython3",
   "version": "3.10.11"
  }
 },
 "nbformat": 4,
 "nbformat_minor": 5
}
